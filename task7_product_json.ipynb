{
 "cells": [
  {
   "cell_type": "code",
   "execution_count": 5,
   "id": "1715dc89-87f7-459f-aefb-39bc0be9673e",
   "metadata": {},
   "outputs": [
    {
     "name": "stdout",
     "output_type": "stream",
     "text": [
      "Kripsan Thakuri's Work:\n",
      " \n"
     ]
    },
    {
     "name": "stdin",
     "output_type": "stream",
     "text": [
      "Enter the number of products:  3\n"
     ]
    },
    {
     "name": "stdout",
     "output_type": "stream",
     "text": [
      "\n",
      "\n",
      "Enter Product Details: \n",
      "\n"
     ]
    },
    {
     "name": "stdin",
     "output_type": "stream",
     "text": [
      "Enter Product Name 1:  Laptop\n",
      "Enter Price of the Product 1:  100000\n",
      "Enter Quantity of the Product 1:  5\n"
     ]
    },
    {
     "name": "stdout",
     "output_type": "stream",
     "text": [
      "\n",
      "\n"
     ]
    },
    {
     "name": "stdin",
     "output_type": "stream",
     "text": [
      "Enter Product Name 2:  Keyboard\n",
      "Enter Price of the Product 2:  2500\n",
      "Enter Quantity of the Product 2:  10\n"
     ]
    },
    {
     "name": "stdout",
     "output_type": "stream",
     "text": [
      "\n",
      "\n"
     ]
    },
    {
     "name": "stdin",
     "output_type": "stream",
     "text": [
      "Enter Product Name 3:  Mouse\n",
      "Enter Price of the Product 3:  1000\n",
      "Enter Quantity of the Product 3:  15\n"
     ]
    },
    {
     "name": "stdout",
     "output_type": "stream",
     "text": [
      "\n",
      "\n",
      "Data written successfully.\n",
      "Product Name   Price     Quantity  \n",
      "-----------------------------------\n",
      "Laptop         100000.0  5         \n",
      "Keyboard       2500.0    10        \n",
      "Mouse          1000.0    15        \n"
     ]
    }
   ],
   "source": [
    "#Parse a JSON file representing product details (name, price, quantity) and display the details in tabular format.\n",
    "\n",
    "import json\n",
    "\n",
    "print(\"Kripsan Thakuri's Work:\\n \")\n",
    "data = []\n",
    "number_of_products = int(input(\"Enter the number of products: \"))\n",
    "print(\"\\n\")\n",
    "\n",
    "print(\"Enter Product Details: \\n\")\n",
    "for i in range(1, number_of_products+1):\n",
    "    name = input(f\"Enter Product Name {i}: \")\n",
    "    price = float(input(f\"Enter Price of the Product {i}: \"))\n",
    "    quantity = int(input(f\"Enter Quantity of the Product {i}: \"))\n",
    "    print(\"\\n\")\n",
    "    \n",
    "    product ={\n",
    "    \"name\": name,\n",
    "    \"price\": price,\n",
    "    \"quantity\": quantity\n",
    "    }\n",
    "    data.append(product)\n",
    "\n",
    "with open(\"products.json\", \"w\") as file:\n",
    "    json.dump(data, file, indent =4)\n",
    "\n",
    "print(\"Data written successfully.\")\n",
    "\n",
    "with open(\"products.json\", \"r\") as file:\n",
    "    product_data = json.load(file)\n",
    "\n",
    "if not product_data:\n",
    "    print(\"No product data found.\")\n",
    "\n",
    "print(f\"{'Product Name':<15}{'Price':<10}{'Quantity':10}\")\n",
    "print(\"-\" * 35)\n",
    "\n",
    "for data in product_data:\n",
    "    name = data['name']\n",
    "    price = data['price']\n",
    "    quantity = data['quantity']\n",
    "    print(f\"{name:<15}{price:<10}{quantity:<10}\")\n",
    "\n"
   ]
  },
  {
   "cell_type": "code",
   "execution_count": null,
   "id": "f6a822b1-b62c-4c82-b807-030fae0205aa",
   "metadata": {},
   "outputs": [],
   "source": []
  }
 ],
 "metadata": {
  "kernelspec": {
   "display_name": "Python 3 (ipykernel)",
   "language": "python",
   "name": "python3"
  },
  "language_info": {
   "codemirror_mode": {
    "name": "ipython",
    "version": 3
   },
   "file_extension": ".py",
   "mimetype": "text/x-python",
   "name": "python",
   "nbconvert_exporter": "python",
   "pygments_lexer": "ipython3",
   "version": "3.12.7"
  }
 },
 "nbformat": 4,
 "nbformat_minor": 5
}
