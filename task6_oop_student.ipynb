{
 "cells": [
  {
   "cell_type": "code",
   "execution_count": 5,
   "id": "56ad7c10-4289-4d13-95c6-50bf3a154dcd",
   "metadata": {},
   "outputs": [
    {
     "name": "stdout",
     "output_type": "stream",
     "text": [
      "Exiting...\n"
     ]
    }
   ],
   "source": [
    "#Develop a simple OOP-based Python class Student with attributes like name, roll number, and marks. Implement methods to input and display details\n",
    "\n",
    "from IPython.display import clear_output\n",
    "import os\n",
    "\n",
    "print(\"Kripsan Thakuri's Work:\\n \")\n",
    "\n",
    "def clear_screen():\n",
    "    clear_output(wait=True)\n",
    "    \n",
    "students = []\n",
    "class Student:\n",
    "    def __init__(self):\n",
    "        self.name = \"\"\n",
    "        self.roll = \"\"\n",
    "        self.marks = 0.0\n",
    "\n",
    "    def input_details(self):\n",
    "        print(\"Enter Student Information \\n\")\n",
    "        self.name = input(\"Enter Student name: \")\n",
    "        self.roll = input(\"Enter Roll Number: \")\n",
    "        self.marks = float(input(\"Enter marks: \"))\n",
    "        print(\"Data stored successfully. \\n\")\n",
    "        \n",
    "    def display_details(self):\n",
    "        print(\"\\n---- Student Details ----\")\n",
    "        print(f\"Name: {self.name}\")\n",
    "        print(f\"Roll Number: {self.roll}\")\n",
    "        print(f\"Marks: {self.marks} \")\n",
    "\n",
    "\n",
    "while True:\n",
    "    print(\"Your options are: \\n\")\n",
    "    print(\"1. Input Student Data\")\n",
    "    print(\"2. Display Student Data\")\n",
    "    print(\"3. Exit \\n\")\n",
    "    choice = input(\"Enter your choice (1-3): \")\n",
    "\n",
    "    if choice == '1':\n",
    "        clear_screen()\n",
    "        student1 = Student()\n",
    "        student1.input_details()\n",
    "        students.append(student1)\n",
    "        \n",
    "    elif choice == '2':\n",
    "        clear_screen()\n",
    "        if not students:\n",
    "            print(\"No data available. \\n\")\n",
    "        else:\n",
    "            for i in students:\n",
    "                i.display_details()\n",
    "        \n",
    "    elif choice == '3':\n",
    "        clear_screen()\n",
    "        print(\"Exiting...\")\n",
    "        break\n",
    "    else:\n",
    "        clear_screen()\n",
    "        print(\"Invalid choice. Try again.\")\n",
    "        \n",
    "\n",
    "\n",
    "\n"
   ]
  },
  {
   "cell_type": "code",
   "execution_count": null,
   "id": "8ad4d516-b6af-499c-a24f-9921c1922a71",
   "metadata": {},
   "outputs": [],
   "source": []
  }
 ],
 "metadata": {
  "kernelspec": {
   "display_name": "Python 3 (ipykernel)",
   "language": "python",
   "name": "python3"
  },
  "language_info": {
   "codemirror_mode": {
    "name": "ipython",
    "version": 3
   },
   "file_extension": ".py",
   "mimetype": "text/x-python",
   "name": "python",
   "nbconvert_exporter": "python",
   "pygments_lexer": "ipython3",
   "version": "3.12.7"
  }
 },
 "nbformat": 4,
 "nbformat_minor": 5
}
