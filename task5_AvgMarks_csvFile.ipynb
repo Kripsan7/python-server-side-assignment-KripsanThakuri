{
 "cells": [
  {
   "cell_type": "code",
   "execution_count": 29,
   "id": "a5627aec-2b21-424d-aa1a-ae0df709f881",
   "metadata": {},
   "outputs": [
    {
     "name": "stdout",
     "output_type": "stream",
     "text": [
      "Kripsan Thakuri's Work: \n",
      "\n",
      "Student Marks Detail:\n",
      "\n",
      "Name      Marks     \n",
      "-----------------\n",
      "Lee       97        \n",
      "Meiko     85        \n",
      "Taichi    78        \n",
      "Elia      65        \n",
      "Goh       58        \n",
      "\n",
      "\n",
      "Average marks of 5: 76.60\n"
     ]
    }
   ],
   "source": [
    "#Write Python code to read from a CSV file of student marks and calculate average marks.\n",
    "\n",
    "import csv\n",
    "\n",
    "print(\"Kripsan Thakuri's Work: \\n\")\n",
    "\n",
    "with open(\"student.csv\", \"r\", encoding=\"utf-8-sig\") as file:\n",
    "    total_marks = 0\n",
    "    student_count = 0\n",
    "    \n",
    "    data = csv.reader(file)\n",
    "    header = next(data) #skips and saves the header row\n",
    "\n",
    "    rows = []\n",
    "\n",
    "    \n",
    "    for row in data:\n",
    "        rows.append(row)\n",
    "        marks = float(row[1])\n",
    "        total_marks += marks\n",
    "        student_count += 1\n",
    "\n",
    "    print(\"Student Marks Detail:\\n\")\n",
    "    print(f\"{header[0]:<10}{header[1]:<10}\")\n",
    "    print('-' * 17)\n",
    "    for content in rows:\n",
    "        print(f\"{content[0]:<10}{content[1]:<10}\")\n",
    "        \n",
    "    average_marks = total_marks / student_count\n",
    "    print(\"\\n\")\n",
    "    print(f\"Average marks of {student_count}: {average_marks:.2f}\")\n",
    "    \n",
    "    \n",
    "    \n",
    "\n",
    "\n",
    "\n"
   ]
  },
  {
   "cell_type": "code",
   "execution_count": null,
   "id": "35bef993-65ca-4cb1-a89e-0030aac6c341",
   "metadata": {},
   "outputs": [],
   "source": []
  }
 ],
 "metadata": {
  "kernelspec": {
   "display_name": "Python 3 (ipykernel)",
   "language": "python",
   "name": "python3"
  },
  "language_info": {
   "codemirror_mode": {
    "name": "ipython",
    "version": 3
   },
   "file_extension": ".py",
   "mimetype": "text/x-python",
   "name": "python",
   "nbconvert_exporter": "python",
   "pygments_lexer": "ipython3",
   "version": "3.12.7"
  }
 },
 "nbformat": 4,
 "nbformat_minor": 5
}
