{
 "cells": [
  {
   "cell_type": "code",
   "execution_count": 1,
   "id": "903ca4e6-94d5-41b2-b1ef-c4b323f146be",
   "metadata": {},
   "outputs": [
    {
     "name": "stdout",
     "output_type": "stream",
     "text": [
      "Kripsan Thakuri's Work: \n"
     ]
    },
    {
     "name": "stdin",
     "output_type": "stream",
     "text": [
      "Enter a number:  7\n"
     ]
    },
    {
     "name": "stdout",
     "output_type": "stream",
     "text": [
      "Factorial of 7: 5040\n"
     ]
    }
   ],
   "source": [
    "#Create a Python function to calculate factorial of a number using recursion.\n",
    "print(\"Kripsan Thakuri's Work: \")\n",
    "\n",
    "def factorial(n):\n",
    "    if n < 0:\n",
    "        print(\"Negative values aren't allowed.\")\n",
    "    if n <= 1:\n",
    "        return 1\n",
    "    else:\n",
    "        return n*factorial(n-1)\n",
    "\n",
    "number = int(input(\"Enter a number: \"))\n",
    "fact = factorial(number)\n",
    "print(f\"Factorial of {number}: {fact}\")"
   ]
  },
  {
   "cell_type": "code",
   "execution_count": null,
   "id": "ab4863f5-728b-4d10-b790-1ed0922fda58",
   "metadata": {},
   "outputs": [],
   "source": []
  }
 ],
 "metadata": {
  "kernelspec": {
   "display_name": "Python 3 (ipykernel)",
   "language": "python",
   "name": "python3"
  },
  "language_info": {
   "codemirror_mode": {
    "name": "ipython",
    "version": 3
   },
   "file_extension": ".py",
   "mimetype": "text/x-python",
   "name": "python",
   "nbconvert_exporter": "python",
   "pygments_lexer": "ipython3",
   "version": "3.12.7"
  }
 },
 "nbformat": 4,
 "nbformat_minor": 5
}
