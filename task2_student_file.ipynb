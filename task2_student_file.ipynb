{
 "cells": [
  {
   "cell_type": "code",
   "execution_count": 1,
   "id": "6148f7af-0e87-4977-9f98-8409f41aeb9a",
   "metadata": {},
   "outputs": [
    {
     "name": "stdout",
     "output_type": "stream",
     "text": [
      "Kripsan Thakuri's Work:\n"
     ]
    },
    {
     "name": "stdin",
     "output_type": "stream",
     "text": [
      "Enter the number of students:  5\n",
      "Enter name of student 1:  Lee Hyori\n",
      "Enter name of student 2:  Taeko Onuki\n",
      "Enter name of student 3:  Kenki Nara\n",
      "Enter name of student 4:  Bea Lima\n",
      "Enter name of student 5:  Bruno Mars\n"
     ]
    },
    {
     "name": "stdout",
     "output_type": "stream",
     "text": [
      "Data written successfully to 'student.txt' file\n",
      "Name of students: \n",
      "1. Lee Hyori \n",
      "2. Taeko Onuki \n",
      "3. Kenki Nara \n",
      "4. Bea Lima \n",
      "5. Bruno Mars \n",
      "\n"
     ]
    }
   ],
   "source": [
    "#Create a program that takes a list of student names and stores them in a file. Then, read the file and display the contents.\n",
    "print(\"Kripsan Thakuri's Work:\")\n",
    "student_names = []\n",
    "\n",
    "number_of_students = int(input(\"Enter the number of students: \"))\n",
    "\n",
    "for i in range(1, number_of_students+1):\n",
    "    name = input(f\"Enter name of student {i}: \")\n",
    "    student_names.append(name)\n",
    "\n",
    "with open(\"student.txt\", \"w\") as file:\n",
    "    file.write(\"Name of students: \\n\")\n",
    "    for i in range(len(student_names)):\n",
    "        file.write(f\"{i+1}. {student_names[i]} \\n\")\n",
    "print(\"Data written successfully to 'student.txt' file\")\n",
    "\n",
    "with open(\"student.txt\", \"r\") as file:\n",
    "    content = file.read()\n",
    "    print(content)\n",
    "    "
   ]
  },
  {
   "cell_type": "code",
   "execution_count": null,
   "id": "0ee9256a-aee5-4e1e-8062-f912317ce70d",
   "metadata": {},
   "outputs": [],
   "source": []
  }
 ],
 "metadata": {
  "kernelspec": {
   "display_name": "Python 3 (ipykernel)",
   "language": "python",
   "name": "python3"
  },
  "language_info": {
   "codemirror_mode": {
    "name": "ipython",
    "version": 3
   },
   "file_extension": ".py",
   "mimetype": "text/x-python",
   "name": "python",
   "nbconvert_exporter": "python",
   "pygments_lexer": "ipython3",
   "version": "3.12.7"
  }
 },
 "nbformat": 4,
 "nbformat_minor": 5
}
